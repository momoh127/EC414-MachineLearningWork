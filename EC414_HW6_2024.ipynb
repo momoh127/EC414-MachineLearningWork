{
  "cells": [
    {
      "cell_type": "markdown",
      "metadata": {
        "id": "view-in-github",
        "colab_type": "text"
      },
      "source": [
        "<a href=\"https://colab.research.google.com/github/momoh127/EC414-MachineLearningWork/blob/main/EC414_HW6_2024.ipynb\" target=\"_parent\"><img src=\"https://colab.research.google.com/assets/colab-badge.svg\" alt=\"Open In Colab\"/></a>"
      ]
    },
    {
      "cell_type": "markdown",
      "metadata": {
        "id": "rh2l7oBalHFg"
      },
      "source": [
        "##Homework 6: PCA Clustering\n",
        "\n",
        "**Due date**: Wednesday, November 6th by 11:59pm"
      ]
    },
    {
      "cell_type": "code",
      "execution_count": null,
      "metadata": {
        "id": "9EOkRe3Hz5wj"
      },
      "outputs": [],
      "source": [
        "import random\n",
        "import numpy as np\n",
        "from tqdm import tqdm"
      ]
    },
    {
      "cell_type": "markdown",
      "metadata": {
        "id": "39elfWxFz5wk"
      },
      "source": [
        "##Question 1: PCA\n",
        "\n",
        "You are given a dataset in $\\mathbb{R}^d$, $x_1,\\dots,x_N$ that is already centered at zero: $\\frac{1}{N}\\sum_{i=1}^N x_i=0$. You calculate the covariance matrix:\n",
        "$$\\Sigma = \\frac{1}{N}\\sum_{i=1}^N x_ix_i^\\top$$\n",
        "\n",
        "The trace of this matrix is the \"regular\" variance of the data: $\\sigma^2 = \\frac{1}{N}\\sum_{i=1}^N \\|x_i\\|^2$ (we do not need to subtract the mean because the mean is already zero). Suppose that you perform PCA onto the first $k$ principle components. Let the projected dataset in $\\mathbb{R}^k$ be $x^{PCA}_1,\\dots,x^{PCA}_N$."
      ]
    },
    {
      "cell_type": "markdown",
      "metadata": {
        "id": "lLnM-tkCnOL3"
      },
      "source": [
        "\n",
        "\n",
        "```\n",
        "# This is formatted as code\n",
        "```\n",
        "\n",
        "###Question 1.a (5 points)\n",
        "Show that $\\frac{1}{N} \\sum_{i=1}^N x^{PCA}_i=0$."
      ]
    },
    {
      "cell_type": "markdown",
      "metadata": {
        "id": "Jo-ANJa8nU_p"
      },
      "source": [
        "ANSWER HERE"
      ]
    },
    {
      "cell_type": "markdown",
      "metadata": {
        "id": "ELhivrHDnV7G"
      },
      "source": [
        "### Question 1.b (10 points)\n",
        "Show that $\\frac{1}{N} \\sum_{i=1}^N \\|x_i^{PCA}\\|^2 \\ge \\frac{k}{d} \\sigma^2$. Hints: (1) the trace of a symmetric matrix is equal to the sum of its eigenvalues. (2) It might help to show the following identity: if $v$ is a normalized eigenvector of $\\Sigma$ with eigenvalue $\\lambda$, then $\\frac{1}{N}\\sum_{i=1}^N  (v^\\top x_i)^2 = \\lambda$. To show this, you might want to also justify the fact that $v^\\top \\Sigma v=\\lambda$."
      ]
    },
    {
      "cell_type": "markdown",
      "metadata": {
        "id": "TUlmNGH_nfqO"
      },
      "source": [
        "ANSWER HERE"
      ]
    },
    {
      "cell_type": "markdown",
      "metadata": {
        "id": "5vVGWRXEbEFE"
      },
      "source": [
        "## PCA Example\n",
        "\n",
        "There are no questions you need to answer in this section but please look through it to see an illustration of how PCA works.\n",
        "\n",
        "PCA is a dimensionality reduction problem. We will work through a simple numerical example where we translate a 2-dimensional dataset to a 1-dimensional dataset by hand to get a feel for what is going on mathematically. In practice, this would be used for much larger dimensions, but for the sake of easy calculations and data visualization, we have kept the dimensions small.\n",
        "\n",
        "Suppose you have the following dataset:\n",
        "\n",
        "$$X = \\begin{bmatrix}\n",
        "  6 & -1 \\\\\n",
        "  4 & -1 \\\\\n",
        "  8 & 4 \\\\\n",
        "  2 & -1     \n",
        "\\end{bmatrix}$$\n",
        "\n",
        "**a.** Center the dataset and plot it. We will call this centered data matrix $\\tilde{X}$.\n"
      ]
    },
    {
      "cell_type": "code",
      "execution_count": null,
      "metadata": {
        "colab": {
          "base_uri": "https://localhost:8080/",
          "height": 472
        },
        "id": "ta9IDNjobPXJ",
        "outputId": "b756824b-62fb-4a5d-b673-a91faa1c4384"
      },
      "outputs": [
        {
          "output_type": "display_data",
          "data": {
            "text/plain": [
              "<Figure size 640x480 with 1 Axes>"
            ],
            "image/png": "[encoded data removed]"
          },
          "metadata": {}
        }
      ],
      "source": [
        "import numpy as np\n",
        "from matplotlib import pyplot as plt\n",
        "\n",
        "# Original dataset\n",
        "X = np.array([[6, -1],\n",
        "              [4, -1],\n",
        "              [8, 4],\n",
        "              [2, -1]])\n",
        "\n",
        "# Mean of each feature\n",
        "mu = np.mean(X, axis=0)\n",
        "\n",
        "# Centered data matrix\n",
        "X_tilde = X - mu\n",
        "\n",
        "# Define colors for each data point\n",
        "colors = ['red', 'green', 'blue', 'purple']\n",
        "\n",
        "# Plot the centered data points with different colors\n",
        "for i in range(len(X_tilde)):\n",
        "    plt.scatter(X_tilde[i, 0], X_tilde[i, 1], color=colors[i])\n",
        "\n",
        "plt.title('Centered Data Points with Different Colors')\n",
        "plt.xlabel('Feature 1')\n",
        "plt.ylabel('Feature 2')\n",
        "plt.grid(True)\n",
        "plt.axhline(0, color='black', linewidth=0.5)\n",
        "plt.axvline(0, color='black', linewidth=0.5)\n",
        "plt.show()"
      ]
    },
    {
      "cell_type": "markdown",
      "metadata": {
        "id": "oSr6SBCtzxVK"
      },
      "source": [
        "**b.** Compute the covariance matrix of the data:\n",
        "\n",
        "The data matrix is centered, so we just have $\\Sigma = \\frac{1}{n}\\tilde{X}^T\\tilde{X}$\n",
        "\n"
      ]
    },
    {
      "cell_type": "code",
      "execution_count": null,
      "metadata": {
        "colab": {
          "base_uri": "https://localhost:8080/"
        },
        "id": "lj2SLTJAzxDF",
        "outputId": "f3022706-bba3-4cc8-cb48-a84d628be9d0"
      },
      "outputs": [
        {
          "output_type": "stream",
          "name": "stdout",
          "text": [
            "Covariance Matrix:\n",
            "[[5.     3.75  ]\n",
            " [3.75   4.6875]]\n"
          ]
        }
      ],
      "source": [
        "# Number of data points\n",
        "n = X_tilde.shape[0]\n",
        "\n",
        "# Compute covariance matrix\n",
        "cov_matrix = (1/n) * np.dot(X_tilde.T, X_tilde)\n",
        "\n",
        "print(\"Covariance Matrix:\")\n",
        "print(cov_matrix)"
      ]
    },
    {
      "cell_type": "markdown",
      "metadata": {
        "id": "PoWKaJwibVX9"
      },
      "source": [
        "**c.** Calculate the eigenvalues and eigenvectors of the covariance matrix, making sure the eigenvectors are unit length. Then we plot the eigenvectors on the dataset.\n",
        "\n"
      ]
    },
    {
      "cell_type": "code",
      "execution_count": null,
      "metadata": {
        "colab": {
          "base_uri": "https://localhost:8080/",
          "height": 576
        },
        "id": "UfO2HK2x0SoM",
        "outputId": "a2556340-c6ca-43d1-fa0c-9ea148a3f65b"
      },
      "outputs": [
        {
          "output_type": "stream",
          "name": "stdout",
          "text": [
            "Eigenvalues:\n",
            "[8.5970038 1.0904962]\n",
            "\n",
            "Eigenvectors:\n",
            "[[ 0.72167532 -0.6922317 ]\n",
            " [ 0.6922317   0.72167532]]\n"
          ]
        },
        {
          "output_type": "display_data",
          "data": {
            "text/plain": [
              "<Figure size 640x480 with 1 Axes>"
            ],
            "image/png": "[encoded data removed]"
          },
          "metadata": {}
        }
      ],
      "source": [
        "# Calculate eigenvalues and eigenvectors\n",
        "eigenvalues, eigenvectors = np.linalg.eig(cov_matrix)\n",
        "\n",
        "# Sort eigenvalues and eigenvectors\n",
        "idx = eigenvalues.argsort()[::-1]\n",
        "eigenvalues = eigenvalues[idx]\n",
        "eigenvectors = eigenvectors[:,idx]\n",
        "\n",
        "# Print eigenvalues and eigenvectors\n",
        "print(\"Eigenvalues:\")\n",
        "print(eigenvalues)\n",
        "print(\"\\nEigenvectors:\")\n",
        "print(eigenvectors)\n",
        "\n",
        "# Define colors for each data point\n",
        "colors = ['red', 'green', 'blue', 'purple']\n",
        "\n",
        "# Plot the centered data points with different colors\n",
        "for i in range(len(X_tilde)):\n",
        "    plt.scatter(X_tilde[i, 0], X_tilde[i, 1], color=colors[i])\n",
        "\n",
        "# Plot eigenvectors with the same colors\n",
        "for i in range(len(eigenvalues)):\n",
        "    plt.quiver(0, 0, eigenvectors[0, i], eigenvectors[1, i], angles='xy', scale_units='xy', scale=1, color=colors[i])\n",
        "\n",
        "plt.title('Eigenvectors')\n",
        "plt.xlabel('Feature 1')\n",
        "plt.ylabel('Feature 2')\n",
        "plt.grid(True)\n",
        "plt.axhline(0, color='black', linewidth=0.5)\n",
        "plt.axvline(0, color='black', linewidth=0.5)\n",
        "plt.show()"
      ]
    },
    {
      "cell_type": "markdown",
      "metadata": {
        "id": "nytiMNEx2Lc1"
      },
      "source": [
        "**d.** We pick k=1 eigenvalues and form a matrix of eigenvectors, C.\n"
      ]
    },
    {
      "cell_type": "code",
      "execution_count": null,
      "metadata": {
        "colab": {
          "base_uri": "https://localhost:8080/"
        },
        "id": "PU9o59V817XH",
        "outputId": "cca9f6c9-959d-4342-8515-dcdfc86081d6"
      },
      "outputs": [
        {
          "output_type": "stream",
          "name": "stdout",
          "text": [
            "Transformed Data Matrix Y:\n",
            "[[-0.143]\n",
            " [-1.587]\n",
            " [ 4.761]\n",
            " [-3.031]]\n"
          ]
        }
      ],
      "source": [
        "# Chosen matrix of eigenvectors\n",
        "C = np.array([[0.722],\n",
        "              [0.692]])\n",
        "\n",
        "# Compute Y\n",
        "Y = np.dot(X_tilde, C)\n",
        "\n",
        "print(\"Transformed Data Matrix Y:\")\n",
        "print(Y)"
      ]
    },
    {
      "cell_type": "markdown",
      "metadata": {
        "id": "4hyB0eONbd3t"
      },
      "source": [
        "\n",
        "\n",
        "**e.** We finally transform the standardized data matrix with the matrix of eigenvectors and plot it. We plot it in one dimension (all x2 values are set to 0).\n"
      ]
    },
    {
      "cell_type": "code",
      "execution_count": null,
      "metadata": {
        "colab": {
          "base_uri": "https://localhost:8080/",
          "height": 472
        },
        "id": "gGaNLlQH2Wdq",
        "outputId": "c70217e8-c07e-4df2-d558-584348e2bae4"
      },
      "outputs": [
        {
          "output_type": "display_data",
          "data": {
            "text/plain": [
              "<Figure size 640x480 with 1 Axes>"
            ],
            "image/png": "[encoded data removed]"
          },
          "metadata": {}
        }
      ],
      "source": [
        "# Define colors for each data point\n",
        "colors = ['red', 'green', 'blue', 'purple']\n",
        "\n",
        "# Plot transformed data in one dimension with the same colors as original data points\n",
        "for i in range(len(Y)):\n",
        "    plt.scatter(Y[i, 0], 0, color=colors[i])\n",
        "\n",
        "plt.title('Transformed Data Matrix Y')\n",
        "plt.xlabel('Feature 1')\n",
        "plt.ylabel('Feature 2')\n",
        "plt.grid(True)\n",
        "plt.axhline(0, color='black', linewidth=0.5)\n",
        "plt.axvline(0, color='black', linewidth=0.5)\n",
        "plt.show()"
      ]
    },
    {
      "cell_type": "markdown",
      "metadata": {
        "id": "T67dYQcVz5wn"
      },
      "source": [
        "###**Question 1**: K-means with Manhattan distance (20 pts)\n",
        "\n",
        "\n",
        "In this exercise, we will explore how to generalize the **k-means** algorithm  in order to use distance measures other than the squared Euclidean distance studied in class.\n",
        "\n",
        "k-means assigns data $\\mathbf{x}_i \\in \\mathbb{R}^d$ into $k$ clusters by minimizing a cost function:\n",
        "$$Cost(\\mathbf{c}_1, \\cdots, \\mathbf{c}_k, y_1, \\cdots, y_N) = \\sum_{j=1}^{k} \\sum_{i \\in C_j} dist(\\mathbf{x}_i, \\mathbf{c}_{j}) \\quad \\quad \\quad  (1)$$\n",
        "\n",
        "where $y_i \\in \\{1, \\cdots, k\\}$ is the 'cluster label' to data $\\mathbf{x}_i$, $C_j = \\{i \\in \\{1, \\cdots, N\\}: y_i = j \\}$ is an index set that keeps a record of which data have been assigned to cluster $j$, $dist(\\cdot, \\cdot)$ is a distant function, $\\mathbf{c}_{j} \\in \\mathbb{R}^d$ is a **cluster representative** for cluster $j$. The minimization problem to equation (1) is NP-hard, so we need alternative heuristic to solve $\\mathbf{c}_1, \\cdots, \\mathbf{c}_k, y_1, \\cdots, y_N$ iteratively by repeating equation (2) and (3) until convergence.\n",
        "\n",
        "We first find the cluster reprsentitives by:\n",
        "$$\\mathbf{c}_j = \\underset{c}{\\operatorname{argmin}} \\sum_{{i} \\in C_j} dist( \\mathbf{x}_i, \\mathbf{c}) \\quad \\forall j = \\{1, \\cdots, k\\} \\quad \\quad \\quad  (2)$$\n",
        "\n",
        "Then we assign data $\\mathbf{x}_i$ with cluster label $y_i$ by:\n",
        "$$y_i = \\underset{j}{\\operatorname{argmin}} dist(\\mathbf{x}_i, \\mathbf{c}_j) \\quad \\forall i \\in \\{ 1, \\cdots, N\\} \\quad \\quad \\quad  (3)$$\n",
        "\n",
        "K-means by default considers euclidean distance that is $ dist(\\mathbf{x}, \\mathbf{c}) = \\| \\mathbf{x} - \\mathbf{c} \\|_2^2  $. In class, we derived the cluster representitive is cluster mean. Now, consider an alternative distance function Manhattan distance, that is\n",
        "\n",
        "$$ dist(\\mathbf{x}, \\mathbf{c}) = \\| \\mathbf{x} - \\mathbf{c} \\|_1  $$"
      ]
    },
    {
      "cell_type": "markdown",
      "metadata": {
        "id": "BOfbt-Btz5wn"
      },
      "source": [
        "####1.a. (10 pts) Derive the cluster representitive when using Manhatan distance. (This is exactly identical to what we did in class when considering euclidean distance).  "
      ]
    },
    {
      "cell_type": "markdown",
      "metadata": {
        "id": "-5wQ6PZRz5wn"
      },
      "source": [
        "**Answer here:**\n",
        "\n",
        "\n"
      ]
    },
    {
      "cell_type": "markdown",
      "metadata": {
        "id": "c21reAsJz5wn"
      },
      "source": [
        "####1.b. (5pts) Write down the pseudocode for the modified k-means algorithm with Manhattan distance. (This should be analogous to the original k-means algorithm done in class.)"
      ]
    },
    {
      "cell_type": "markdown",
      "metadata": {
        "id": "4MjOEv6uz5wn"
      },
      "source": [
        "**Answer here:**\n",
        "\n"
      ]
    },
    {
      "cell_type": "markdown",
      "metadata": {
        "id": "E71gh3o7z5wn"
      },
      "source": [
        "####1.c. (5pts) State one potential advantage of using Manhattan distance over squared Euclidean distances for the purpose of clustering."
      ]
    },
    {
      "cell_type": "markdown",
      "metadata": {
        "id": "tYMdGd9Tz5wn"
      },
      "source": [
        "**Answer here:**\n"
      ]
    },
    {
      "cell_type": "markdown",
      "metadata": {
        "id": "WSXS2LYqz5wn"
      },
      "source": [
        "####1.d. (Bonus: 5 pts) Show that the modified k-means algorithm with Manhattan distance monotonically minimizes the objective function until local convergence (Hint: the convergence theorem for k-means algorithm discussed in class)."
      ]
    },
    {
      "cell_type": "markdown",
      "metadata": {
        "id": "alAnlS4lz5wn"
      },
      "source": [
        "**Answer here:**\n"
      ]
    }
  ],
  "metadata": {
    "colab": {
      "provenance": [],
      "include_colab_link": true
    },
    "kernelspec": {
      "display_name": "tf",
      "language": "python",
      "name": "python3"
    },
    "language_info": {
      "codemirror_mode": {
        "name": "ipython",
        "version": 3
      },
      "file_extension": ".py",
      "mimetype": "text/x-python",
      "name": "python",
      "nbconvert_exporter": "python",
      "pygments_lexer": "ipython3",
      "version": "3.9.12"
    }
  },
  "nbformat": 4,
  "nbformat_minor": 0
}